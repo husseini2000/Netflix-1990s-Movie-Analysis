{
 "cells": [
  {
   "cell_type": "markdown",
   "metadata": {},
   "source": [
    "# Investigating Netflix Movies"
   ]
  },
  {
   "cell_type": "markdown",
   "metadata": {},
   "source": [
    "<center><img src=\"redpopcorn.jpg\"></center>"
   ]
  },
  {
   "cell_type": "markdown",
   "metadata": {},
   "source": [
    "**Netflix**! What started in 1997 as a DVD rental service has since exploded into one of the largest entertainment and media companies.\n",
    "\n",
    "Given the large number of movies and series available on the platform, it is a perfect opportunity to flex your exploratory data analysis skills and dive into the entertainment industry.\n",
    "\n",
    "You work for a production company that specializes in nostalgic styles. You want to do some research on movies released in the 1990's. You'll delve into Netflix data and perform exploratory data analysis to better understand this awesome movie decade!\n",
    "\n",
    "You have been supplied with the dataset `netflix_data.csv`, along with the following table detailing the column names and descriptions. Feel free to experiment further after submitting!\n",
    "\n",
    "## The data\n",
    "### **netflix_data.csv**\n",
    "| Column | Description |\n",
    "|--------|-------------|\n",
    "| `show_id` | The ID of the show |\n",
    "| `type` | Type of show |\n",
    "| `title` | Title of the show |\n",
    "| `director` | Director of the show |\n",
    "| `cast` | Cast of the show |\n",
    "| `country` | Country of origin |\n",
    "| `date_added` | Date added to Netflix |\n",
    "| `release_year` | Year of Netflix release |\n",
    "| `duration` | Duration of the show in minutes |\n",
    "| `description` | Description of the show |\n",
    "| `genre` | Show genre |"
   ]
  },
  {
   "cell_type": "markdown",
   "metadata": {},
   "source": [
    "## Exploratory Data Analysis (EDA)"
   ]
  },
  {
   "cell_type": "markdown",
   "metadata": {},
   "source": [
    "1. ###  Import libraries"
   ]
  },
  {
   "cell_type": "code",
   "execution_count": 1,
   "metadata": {
    "executionCancelledAt": null,
    "executionTime": 52,
    "lastExecutedAt": 1727872767496,
    "lastExecutedByKernel": "96115d23-20a9-44e9-aee4-c78a2fd14fd1",
    "lastScheduledRunId": null,
    "lastSuccessfullyExecutedCode": "# Import necessary libraries\nimport pandas as pd\nimport matplotlib.pyplot as plt\nimport seaborn as sns"
   },
   "outputs": [],
   "source": [
    "# Import necessary libraries\n",
    "import pandas as pd\n",
    "import matplotlib.pyplot as plt\n",
    "import seaborn as sns"
   ]
  },
  {
   "cell_type": "markdown",
   "metadata": {},
   "source": [
    "2. ### Load the dataset"
   ]
  },
  {
   "cell_type": "code",
   "execution_count": 2,
   "metadata": {
    "executionCancelledAt": null,
    "executionTime": 51,
    "lastExecutedAt": 1727872767547,
    "lastExecutedByKernel": "96115d23-20a9-44e9-aee4-c78a2fd14fd1",
    "lastScheduledRunId": null,
    "lastSuccessfullyExecutedCode": "# Read in the Netflix CSV as a DataFrame\nnetflix_df = pd.read_csv(\"netflix_data.csv\")"
   },
   "outputs": [],
   "source": [
    "# Read in the Netflix CSV as a DataFrame\n",
    "netflix_df = pd.read_csv(\"netflix_data.csv\")"
   ]
  },
  {
   "cell_type": "markdown",
   "metadata": {},
   "source": [
    "3. ### Data Overview"
   ]
  },
  {
   "cell_type": "code",
   "execution_count": 3,
   "metadata": {
    "executionCancelledAt": null,
    "executionTime": 48,
    "lastExecutedAt": 1727872767596,
    "lastExecutedByKernel": "96115d23-20a9-44e9-aee4-c78a2fd14fd1",
    "lastScheduledRunId": null,
    "lastSuccessfullyExecutedCode": "# A preview of the first five rows of the dataset\nnetflix_df.head()",
    "outputsMetadata": {
     "0": {
      "height": 238,
      "type": "dataFrame"
     }
    }
   },
   "outputs": [
    {
     "data": {
      "text/html": [
       "<div>\n",
       "<style scoped>\n",
       "    .dataframe tbody tr th:only-of-type {\n",
       "        vertical-align: middle;\n",
       "    }\n",
       "\n",
       "    .dataframe tbody tr th {\n",
       "        vertical-align: top;\n",
       "    }\n",
       "\n",
       "    .dataframe thead th {\n",
       "        text-align: right;\n",
       "    }\n",
       "</style>\n",
       "<table border=\"1\" class=\"dataframe\">\n",
       "  <thead>\n",
       "    <tr style=\"text-align: right;\">\n",
       "      <th></th>\n",
       "      <th>show_id</th>\n",
       "      <th>type</th>\n",
       "      <th>title</th>\n",
       "      <th>director</th>\n",
       "      <th>cast</th>\n",
       "      <th>country</th>\n",
       "      <th>date_added</th>\n",
       "      <th>release_year</th>\n",
       "      <th>duration</th>\n",
       "      <th>description</th>\n",
       "      <th>genre</th>\n",
       "    </tr>\n",
       "  </thead>\n",
       "  <tbody>\n",
       "    <tr>\n",
       "      <th>0</th>\n",
       "      <td>s2</td>\n",
       "      <td>Movie</td>\n",
       "      <td>7:19</td>\n",
       "      <td>Jorge Michel Grau</td>\n",
       "      <td>Demián Bichir, Héctor Bonilla, Oscar Serrano, ...</td>\n",
       "      <td>Mexico</td>\n",
       "      <td>December 23, 2016</td>\n",
       "      <td>2016</td>\n",
       "      <td>93</td>\n",
       "      <td>After a devastating earthquake hits Mexico Cit...</td>\n",
       "      <td>Dramas</td>\n",
       "    </tr>\n",
       "    <tr>\n",
       "      <th>1</th>\n",
       "      <td>s3</td>\n",
       "      <td>Movie</td>\n",
       "      <td>23:59</td>\n",
       "      <td>Gilbert Chan</td>\n",
       "      <td>Tedd Chan, Stella Chung, Henley Hii, Lawrence ...</td>\n",
       "      <td>Singapore</td>\n",
       "      <td>December 20, 2018</td>\n",
       "      <td>2011</td>\n",
       "      <td>78</td>\n",
       "      <td>When an army recruit is found dead, his fellow...</td>\n",
       "      <td>Horror Movies</td>\n",
       "    </tr>\n",
       "    <tr>\n",
       "      <th>2</th>\n",
       "      <td>s4</td>\n",
       "      <td>Movie</td>\n",
       "      <td>9</td>\n",
       "      <td>Shane Acker</td>\n",
       "      <td>Elijah Wood, John C. Reilly, Jennifer Connelly...</td>\n",
       "      <td>United States</td>\n",
       "      <td>November 16, 2017</td>\n",
       "      <td>2009</td>\n",
       "      <td>80</td>\n",
       "      <td>In a postapocalyptic world, rag-doll robots hi...</td>\n",
       "      <td>Action</td>\n",
       "    </tr>\n",
       "    <tr>\n",
       "      <th>3</th>\n",
       "      <td>s5</td>\n",
       "      <td>Movie</td>\n",
       "      <td>21</td>\n",
       "      <td>Robert Luketic</td>\n",
       "      <td>Jim Sturgess, Kevin Spacey, Kate Bosworth, Aar...</td>\n",
       "      <td>United States</td>\n",
       "      <td>January 1, 2020</td>\n",
       "      <td>2008</td>\n",
       "      <td>123</td>\n",
       "      <td>A brilliant group of students become card-coun...</td>\n",
       "      <td>Dramas</td>\n",
       "    </tr>\n",
       "    <tr>\n",
       "      <th>4</th>\n",
       "      <td>s6</td>\n",
       "      <td>TV Show</td>\n",
       "      <td>46</td>\n",
       "      <td>Serdar Akar</td>\n",
       "      <td>Erdal Beşikçioğlu, Yasemin Allen, Melis Birkan...</td>\n",
       "      <td>Turkey</td>\n",
       "      <td>July 1, 2017</td>\n",
       "      <td>2016</td>\n",
       "      <td>1</td>\n",
       "      <td>A genetics professor experiments with a treatm...</td>\n",
       "      <td>International TV</td>\n",
       "    </tr>\n",
       "  </tbody>\n",
       "</table>\n",
       "</div>"
      ],
      "text/plain": [
       "  show_id     type  title           director  \\\n",
       "0      s2    Movie   7:19  Jorge Michel Grau   \n",
       "1      s3    Movie  23:59       Gilbert Chan   \n",
       "2      s4    Movie      9        Shane Acker   \n",
       "3      s5    Movie     21     Robert Luketic   \n",
       "4      s6  TV Show     46        Serdar Akar   \n",
       "\n",
       "                                                cast        country  \\\n",
       "0  Demián Bichir, Héctor Bonilla, Oscar Serrano, ...         Mexico   \n",
       "1  Tedd Chan, Stella Chung, Henley Hii, Lawrence ...      Singapore   \n",
       "2  Elijah Wood, John C. Reilly, Jennifer Connelly...  United States   \n",
       "3  Jim Sturgess, Kevin Spacey, Kate Bosworth, Aar...  United States   \n",
       "4  Erdal Beşikçioğlu, Yasemin Allen, Melis Birkan...         Turkey   \n",
       "\n",
       "          date_added  release_year  duration  \\\n",
       "0  December 23, 2016          2016        93   \n",
       "1  December 20, 2018          2011        78   \n",
       "2  November 16, 2017          2009        80   \n",
       "3    January 1, 2020          2008       123   \n",
       "4       July 1, 2017          2016         1   \n",
       "\n",
       "                                         description             genre  \n",
       "0  After a devastating earthquake hits Mexico Cit...            Dramas  \n",
       "1  When an army recruit is found dead, his fellow...     Horror Movies  \n",
       "2  In a postapocalyptic world, rag-doll robots hi...            Action  \n",
       "3  A brilliant group of students become card-coun...            Dramas  \n",
       "4  A genetics professor experiments with a treatm...  International TV  "
      ]
     },
     "execution_count": 3,
     "metadata": {},
     "output_type": "execute_result"
    }
   ],
   "source": [
    "# A preview of the first five rows of the dataset\n",
    "netflix_df.head()"
   ]
  },
  {
   "cell_type": "code",
   "execution_count": 4,
   "metadata": {
    "executionCancelledAt": null,
    "executionTime": 60,
    "lastExecutedAt": 1727872767656,
    "lastExecutedByKernel": "96115d23-20a9-44e9-aee4-c78a2fd14fd1",
    "lastScheduledRunId": null,
    "lastSuccessfullyExecutedCode": "netflix_df.info()",
    "outputsMetadata": {
     "0": {
      "height": 395,
      "type": "stream"
     }
    }
   },
   "outputs": [
    {
     "name": "stdout",
     "output_type": "stream",
     "text": [
      "<class 'pandas.core.frame.DataFrame'>\n",
      "RangeIndex: 4812 entries, 0 to 4811\n",
      "Data columns (total 11 columns):\n",
      " #   Column        Non-Null Count  Dtype \n",
      "---  ------        --------------  ----- \n",
      " 0   show_id       4812 non-null   object\n",
      " 1   type          4812 non-null   object\n",
      " 2   title         4812 non-null   object\n",
      " 3   director      4812 non-null   object\n",
      " 4   cast          4812 non-null   object\n",
      " 5   country       4812 non-null   object\n",
      " 6   date_added    4812 non-null   object\n",
      " 7   release_year  4812 non-null   int64 \n",
      " 8   duration      4812 non-null   int64 \n",
      " 9   description   4812 non-null   object\n",
      " 10  genre         4812 non-null   object\n",
      "dtypes: int64(2), object(9)\n",
      "memory usage: 413.7+ KB\n"
     ]
    }
   ],
   "source": [
    "netflix_df.info()"
   ]
  },
  {
   "cell_type": "markdown",
   "metadata": {},
   "source": [
    "**Note:** From the output of the previous step there is no need to cleaning:\n",
    "1. no missing values\n",
    "2. no duplicates \n",
    "3. the proper Data Type"
   ]
  },
  {
   "cell_type": "markdown",
   "metadata": {},
   "source": [
    "4. ### Subseting & Filter the data"
   ]
  },
  {
   "cell_type": "code",
   "execution_count": 5,
   "metadata": {
    "executionCancelledAt": null,
    "executionTime": 76,
    "lastExecutedAt": 1727872767732,
    "lastExecutedByKernel": "96115d23-20a9-44e9-aee4-c78a2fd14fd1",
    "lastScheduledRunId": null,
    "lastSuccessfullyExecutedCode": "# Filter the data for movies released in the 1990s\nmovies_1990s = netflix_df[(netflix_df['type'] == 'Movie') & \n                            (netflix_df['release_year'] >= 1990) & \n                            (netflix_df['release_year'] < 2000)]\nmovies_1990s.head()",
    "outputsMetadata": {
     "0": {
      "height": 238,
      "type": "dataFrame"
     }
    }
   },
   "outputs": [
    {
     "data": {
      "text/html": [
       "<div>\n",
       "<style scoped>\n",
       "    .dataframe tbody tr th:only-of-type {\n",
       "        vertical-align: middle;\n",
       "    }\n",
       "\n",
       "    .dataframe tbody tr th {\n",
       "        vertical-align: top;\n",
       "    }\n",
       "\n",
       "    .dataframe thead th {\n",
       "        text-align: right;\n",
       "    }\n",
       "</style>\n",
       "<table border=\"1\" class=\"dataframe\">\n",
       "  <thead>\n",
       "    <tr style=\"text-align: right;\">\n",
       "      <th></th>\n",
       "      <th>show_id</th>\n",
       "      <th>type</th>\n",
       "      <th>title</th>\n",
       "      <th>director</th>\n",
       "      <th>cast</th>\n",
       "      <th>country</th>\n",
       "      <th>date_added</th>\n",
       "      <th>release_year</th>\n",
       "      <th>duration</th>\n",
       "      <th>description</th>\n",
       "      <th>genre</th>\n",
       "    </tr>\n",
       "  </thead>\n",
       "  <tbody>\n",
       "    <tr>\n",
       "      <th>6</th>\n",
       "      <td>s8</td>\n",
       "      <td>Movie</td>\n",
       "      <td>187</td>\n",
       "      <td>Kevin Reynolds</td>\n",
       "      <td>Samuel L. Jackson, John Heard, Kelly Rowan, Cl...</td>\n",
       "      <td>United States</td>\n",
       "      <td>November 1, 2019</td>\n",
       "      <td>1997</td>\n",
       "      <td>119</td>\n",
       "      <td>After one of his high school students attacks ...</td>\n",
       "      <td>Dramas</td>\n",
       "    </tr>\n",
       "    <tr>\n",
       "      <th>118</th>\n",
       "      <td>s167</td>\n",
       "      <td>Movie</td>\n",
       "      <td>A Dangerous Woman</td>\n",
       "      <td>Stephen Gyllenhaal</td>\n",
       "      <td>Debra Winger, Barbara Hershey, Gabriel Byrne, ...</td>\n",
       "      <td>United States</td>\n",
       "      <td>April 1, 2018</td>\n",
       "      <td>1993</td>\n",
       "      <td>101</td>\n",
       "      <td>At the center of this engrossing melodrama is ...</td>\n",
       "      <td>Dramas</td>\n",
       "    </tr>\n",
       "    <tr>\n",
       "      <th>145</th>\n",
       "      <td>s211</td>\n",
       "      <td>Movie</td>\n",
       "      <td>A Night at the Roxbury</td>\n",
       "      <td>John Fortenberry</td>\n",
       "      <td>Will Ferrell, Chris Kattan, Dan Hedaya, Molly ...</td>\n",
       "      <td>United States</td>\n",
       "      <td>December 1, 2019</td>\n",
       "      <td>1998</td>\n",
       "      <td>82</td>\n",
       "      <td>After a run-in with Richard Grieco, dimwits Do...</td>\n",
       "      <td>Comedies</td>\n",
       "    </tr>\n",
       "    <tr>\n",
       "      <th>167</th>\n",
       "      <td>s239</td>\n",
       "      <td>Movie</td>\n",
       "      <td>A Thin Line Between Love &amp; Hate</td>\n",
       "      <td>Martin Lawrence</td>\n",
       "      <td>Martin Lawrence, Lynn Whitfield, Regina King, ...</td>\n",
       "      <td>United States</td>\n",
       "      <td>December 1, 2020</td>\n",
       "      <td>1996</td>\n",
       "      <td>108</td>\n",
       "      <td>When a philandering club promoter sets out to ...</td>\n",
       "      <td>Comedies</td>\n",
       "    </tr>\n",
       "    <tr>\n",
       "      <th>194</th>\n",
       "      <td>s274</td>\n",
       "      <td>Movie</td>\n",
       "      <td>Aashik Awara</td>\n",
       "      <td>Umesh Mehra</td>\n",
       "      <td>Saif Ali Khan, Mamta Kulkarni, Mohnish Bahl, S...</td>\n",
       "      <td>India</td>\n",
       "      <td>June 1, 2017</td>\n",
       "      <td>1993</td>\n",
       "      <td>154</td>\n",
       "      <td>Raised by a kindly thief, orphaned Jimmy goes ...</td>\n",
       "      <td>Dramas</td>\n",
       "    </tr>\n",
       "  </tbody>\n",
       "</table>\n",
       "</div>"
      ],
      "text/plain": [
       "    show_id   type                            title            director  \\\n",
       "6        s8  Movie                              187      Kevin Reynolds   \n",
       "118    s167  Movie                A Dangerous Woman  Stephen Gyllenhaal   \n",
       "145    s211  Movie           A Night at the Roxbury    John Fortenberry   \n",
       "167    s239  Movie  A Thin Line Between Love & Hate     Martin Lawrence   \n",
       "194    s274  Movie                     Aashik Awara         Umesh Mehra   \n",
       "\n",
       "                                                  cast        country  \\\n",
       "6    Samuel L. Jackson, John Heard, Kelly Rowan, Cl...  United States   \n",
       "118  Debra Winger, Barbara Hershey, Gabriel Byrne, ...  United States   \n",
       "145  Will Ferrell, Chris Kattan, Dan Hedaya, Molly ...  United States   \n",
       "167  Martin Lawrence, Lynn Whitfield, Regina King, ...  United States   \n",
       "194  Saif Ali Khan, Mamta Kulkarni, Mohnish Bahl, S...          India   \n",
       "\n",
       "           date_added  release_year  duration  \\\n",
       "6    November 1, 2019          1997       119   \n",
       "118     April 1, 2018          1993       101   \n",
       "145  December 1, 2019          1998        82   \n",
       "167  December 1, 2020          1996       108   \n",
       "194      June 1, 2017          1993       154   \n",
       "\n",
       "                                           description     genre  \n",
       "6    After one of his high school students attacks ...    Dramas  \n",
       "118  At the center of this engrossing melodrama is ...    Dramas  \n",
       "145  After a run-in with Richard Grieco, dimwits Do...  Comedies  \n",
       "167  When a philandering club promoter sets out to ...  Comedies  \n",
       "194  Raised by a kindly thief, orphaned Jimmy goes ...    Dramas  "
      ]
     },
     "execution_count": 5,
     "metadata": {},
     "output_type": "execute_result"
    }
   ],
   "source": [
    "# Filter the data for movies released in the 1990s\n",
    "movies_1990s = netflix_df[(netflix_df['type'] == 'Movie') & \n",
    "                            (netflix_df['release_year'] >= 1990) & \n",
    "                            (netflix_df['release_year'] < 2000)]\n",
    "\n",
    "\n",
    "# Preview the filtered dataset\n",
    "movies_1990s.head()"
   ]
  },
  {
   "cell_type": "markdown",
   "metadata": {},
   "source": [
    "5. ### Answer questions"
   ]
  },
  {
   "cell_type": "markdown",
   "metadata": {},
   "source": [
    "#### Question 1: What was the most frequent movie duration in the 1990s?\n",
    "We will find the most common movie duration using the mode function."
   ]
  },
  {
   "cell_type": "code",
   "execution_count": 6,
   "metadata": {
    "executionCancelledAt": null,
    "executionTime": 51,
    "lastExecutedAt": 1727872767835,
    "lastExecutedByKernel": "96115d23-20a9-44e9-aee4-c78a2fd14fd1",
    "lastScheduledRunId": null,
    "lastSuccessfullyExecutedCode": "# Find the most frequent movie duration\nduration = movies_1990s['duration'].mode()[0]"
   },
   "outputs": [],
   "source": [
    "# Find the most frequent movie duration\n",
    "duration = movies_1990s['duration'].mode()[0]"
   ]
  },
  {
   "cell_type": "markdown",
   "metadata": {},
   "source": [
    "#### Question 2: How many short action movies were released in the 1990s?\n",
    "Short movies are defined as those with a duration of less than 90 minutes. We will filter out action movies from the 1990s that are less than 90 minutes long."
   ]
  },
  {
   "cell_type": "code",
   "execution_count": 7,
   "metadata": {
    "executionCancelledAt": null,
    "executionTime": 52,
    "lastExecutedAt": 1727872767888,
    "lastExecutedByKernel": "96115d23-20a9-44e9-aee4-c78a2fd14fd1",
    "lastScheduledRunId": null,
    "lastSuccessfullyExecutedCode": "# Step 6: Identify short action movies (duration < 90 minutes)\nshort_action_movies = movies_1990s[(movies_1990s['duration'] < 90) & \n                                   (movies_1990s['genre'].str.contains('Action', case=False, na=False))]\n\nshort_movie_count = len(short_action_movies)"
   },
   "outputs": [],
   "source": [
    "# Identify short action movies (duration < 90 minutes)\n",
    "short_action_movies = movies_1990s[(movies_1990s['duration'] < 90) & \n",
    "                                   (movies_1990s['genre'].str.contains('Action', case=False, na=False))]\n",
    "\n",
    "short_movie_count = len(short_action_movies)"
   ]
  },
  {
   "cell_type": "markdown",
   "metadata": {},
   "source": [
    "#### Question 3: How many short movies (under 90 minutes) were released each year during the 1990s?\n",
    "We will group the short movies by release year and count how many were released each year, then visualize the trend using a bar chart."
   ]
  },
  {
   "cell_type": "code",
   "execution_count": 9,
   "metadata": {},
   "outputs": [],
   "source": [
    "# Group short movies by release year\n",
    "short_movies_yearly = movies_1990s[movies_1990s['duration'] < 90].groupby('release_year').size()"
   ]
  },
  {
   "cell_type": "markdown",
   "metadata": {},
   "source": [
    "6. ### Visualizations"
   ]
  },
  {
   "cell_type": "code",
   "execution_count": 10,
   "metadata": {
    "executionCancelledAt": null,
    "executionTime": 377,
    "lastExecutedAt": 1727872768265,
    "lastExecutedByKernel": "96115d23-20a9-44e9-aee4-c78a2fd14fd1",
    "lastScheduledRunId": null,
    "lastSuccessfullyExecutedCode": "# Visualization 1: Distribution of Movie Durations\nplt.figure(figsize=(10, 6))\nsns.histplot(movies_1990s['duration'].dropna(), bins=20, kde=False, color='skyblue')\nplt.title('Distribution of Movie Durations in the 1990s', fontsize=14)\nplt.xlabel('Duration (Minutes)', fontsize=12)\nplt.ylabel('Number of Movies', fontsize=12)\nplt.axvline(duration, color='red', linestyle='--', label=f'Most Frequent: {duration} mins')\nplt.legend()\nplt.show()"
   },
   "outputs": [
    {
     "data": {
      "image/png": "[encoded data removed]",
      "text/plain": [
       "<Figure size 720x432 with 1 Axes>"
      ]
     },
     "metadata": {
      "needs_background": "light"
     },
     "output_type": "display_data"
    }
   ],
   "source": [
    "# Visualization 1: Distribution of Movie Durations\n",
    "plt.figure(figsize=(10, 6))\n",
    "sns.histplot(movies_1990s['duration'].dropna(), bins=20, kde=False, color='skyblue')\n",
    "plt.title('Distribution of Movie Durations in the 1990s', fontsize=14)\n",
    "plt.xlabel('Duration (Minutes)', fontsize=12)\n",
    "plt.ylabel('Number of Movies', fontsize=12)\n",
    "plt.axvline(duration, color='red', linestyle='--', label=f'Most Frequent: {duration} mins')\n",
    "plt.legend()\n",
    "plt.show()"
   ]
  },
  {
   "cell_type": "code",
   "execution_count": 11,
   "metadata": {
    "executionCancelledAt": null,
    "executionTime": 270,
    "lastExecutedAt": 1727872768535,
    "lastExecutedByKernel": "96115d23-20a9-44e9-aee4-c78a2fd14fd1",
    "lastScheduledRunId": null,
    "lastSuccessfullyExecutedCode": "# Visualization 2: Genre Distribution of Short Action Movies\nif len(short_action_movies) > 0:\n    genre_counts = short_action_movies['genre'].value_counts()\n    plt.figure(figsize=(8, 8))\n    genre_counts.plot.pie(autopct='%1.1f%%', startangle=90, colors=sns.color_palette('pastel'))\n    plt.title('Genre Distribution of Short Action Movies (1990s)', fontsize=14)\n    plt.ylabel('')\n    plt.show()\nelse:\n    print(\"No short action movies to display.\")"
   },
   "outputs": [
    {
     "data": {
      "image/png": "[encoded data removed]",
      "text/plain": [
       "<Figure size 576x576 with 1 Axes>"
      ]
     },
     "metadata": {},
     "output_type": "display_data"
    }
   ],
   "source": [
    "# Visualization 2: Genre Distribution of Short Action Movies\n",
    "if len(short_action_movies) > 0:\n",
    "    genre_counts = short_action_movies['genre'].value_counts()\n",
    "    plt.figure(figsize=(8, 8))\n",
    "    genre_counts.plot.pie(autopct='%1.1f%%', startangle=90, colors=sns.color_palette('pastel'))\n",
    "    plt.title('Genre Distribution of Short Action Movies (1990s)', fontsize=14)\n",
    "    plt.ylabel('')\n",
    "    plt.show()\n",
    "else:\n",
    "    print(\"No short action movies to display.\")"
   ]
  },
  {
   "cell_type": "code",
   "execution_count": 12,
   "metadata": {},
   "outputs": [
    {
     "data": {
      "image/png": "[encoded data removed]",
      "text/plain": [
       "<Figure size 720x432 with 1 Axes>"
      ]
     },
     "metadata": {
      "needs_background": "light"
     },
     "output_type": "display_data"
    }
   ],
   "source": [
    "# Visualization 2: Year-wise Release of Short Movies (Under 90 Minutes)\n",
    "plt.figure(figsize=(10, 6))\n",
    "sns.barplot(x=short_movies_yearly.index, y=short_movies_yearly.values, palette=\"viridis\")\n",
    "plt.title(\"Year-wise Release of Short Movies (Under 90 Minutes) in the 1990s\")\n",
    "plt.xlabel(\"Year\")\n",
    "plt.ylabel(\"Number of Short Movies\")\n",
    "plt.show()"
   ]
  },
  {
   "cell_type": "markdown",
   "metadata": {},
   "source": [
    "**A bar chart displayed how short movies (under 90 minutes) were released each year in the 1990s.**"
   ]
  },
  {
   "cell_type": "markdown",
   "metadata": {},
   "source": [
    "7. ### Summary"
   ]
  },
  {
   "cell_type": "code",
   "execution_count": 15,
   "metadata": {
    "executionCancelledAt": null,
    "executionTime": 16,
    "lastExecutedAt": 1727872815879,
    "lastExecutedByKernel": "96115d23-20a9-44e9-aee4-c78a2fd14fd1",
    "lastScheduledRunId": null,
    "lastSuccessfullyExecutedCode": "# Outputting the summary of findings\nsummary = {\n    'Most Frequent Duration (1990s Movies)': duration,\n    'Short Action Movie Count (1990s)': short_movie_count\n}\nprint(summary)",
    "outputsMetadata": {
     "0": {
      "height": 38,
      "type": "stream"
     }
    }
   },
   "outputs": [
    {
     "name": "stdout",
     "output_type": "stream",
     "text": [
      "{'Most Frequent Duration (1990s Movies)': 94, 'Short Action Movie Count (1990s)': 7, 'Year-wise Release of Short Movies': 7}\n"
     ]
    }
   ],
   "source": [
    "# Outputting the summary of findings\n",
    "summary = {\n",
    "    'Most Frequent Duration (1990s Movies)': duration,\n",
    "    'Short Action Movie Count (1990s)': short_movie_count,\n",
    "    'Year-wise Release of Short Movies': max(short_movies_yearly)\n",
    "}\n",
    "print(summary)"
   ]
  }
 ],
 "metadata": {
  "colab": {
   "name": "Welcome to DataCamp Workspaces.ipynb",
   "provenance": []
  },
  "editor": "DataLab",
  "kernelspec": {
   "display_name": "Python 3",
   "language": "python",
   "name": "python3"
  },
  "language_info": {
   "codemirror_mode": {
    "name": "ipython",
    "version": 3
   },
   "file_extension": ".py",
   "mimetype": "text/x-python",
   "name": "python",
   "nbconvert_exporter": "python",
   "pygments_lexer": "ipython3",
   "version": "3.8.5"
  }
 },
 "nbformat": 4,
 "nbformat_minor": 5
}
